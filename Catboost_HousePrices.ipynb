{
  "nbformat": 4,
  "nbformat_minor": 0,
  "metadata": {
    "colab": {
      "provenance": []
    },
    "kernelspec": {
      "name": "python3",
      "display_name": "Python 3"
    },
    "language_info": {
      "name": "python"
    }
  },
  "cells": [
    {
      "cell_type": "code",
      "execution_count": null,
      "metadata": {
        "id": "R4e_u3k1Bn_Y"
      },
      "outputs": [],
      "source": [
        "!pip install catboost\n",
        "!pip install optuna"
      ]
    },
    {
      "cell_type": "code",
      "source": [
        "import pandas as pd\n",
        "from catboost import CatBoostRegressor, Pool\n",
        "from sklearn.model_selection import train_test_split\n",
        "from sklearn.metrics import mean_absolute_error, mean_squared_error, r2_score, accuracy_score\n",
        "from math import sqrt"
      ],
      "metadata": {
        "id": "Ux-Id5uCCRzF"
      },
      "execution_count": null,
      "outputs": []
    },
    {
      "cell_type": "code",
      "source": [
        "train = pd.read_csv('train.csv')\n",
        "train_id = train['Id']\n",
        "train.drop('Id', axis=1, inplace=True)\n",
        "\n",
        "X = train.drop('SalePrice', axis=1)\n",
        "y = train['SalePrice']\n",
        "\n",
        "for col in X.columns:\n",
        "    if X[col].dtype != 'object':\n",
        "        median_val = X[col].median()\n",
        "        X[col].fillna(median_val, inplace=True)\n",
        "\n",
        "X.fillna('missing', inplace=True)\n",
        "\n",
        "cat_features = [i for i in X.columns if X[i].dtype == 'object']\n",
        "X_train, X_valid, y_train, y_valid = train_test_split(X, y, test_size=0.2, random_state=42)"
      ],
      "metadata": {
        "id": "7y5kk8k_Cdhx"
      },
      "execution_count": null,
      "outputs": []
    },
    {
      "cell_type": "code",
      "source": [
        "model = CatBoostRegressor(iterations=1000, depth=6, learning_rate=0.1, loss_function='RMSE', cat_features=cat_features, verbose=200)\n",
        "model.fit(X_train, y_train, eval_set=(X_valid, y_valid), early_stopping_rounds=50)"
      ],
      "metadata": {
        "colab": {
          "base_uri": "https://localhost:8080/"
        },
        "id": "dFOTFKGoC4iI",
        "outputId": "d80a978e-63d7-437c-ffc7-132117a3ab8f"
      },
      "execution_count": null,
      "outputs": [
        {
          "output_type": "stream",
          "name": "stdout",
          "text": [
            "0:\tlearn: 72294.6354378\ttest: 82692.0044123\tbest: 82692.0044123 (0)\ttotal: 86.2ms\tremaining: 1m 26s\n",
            "200:\tlearn: 12609.0998199\ttest: 27187.5927625\tbest: 27182.2168744 (197)\ttotal: 8.19s\tremaining: 32.6s\n",
            "400:\tlearn: 8152.8980172\ttest: 26573.3311617\tbest: 26573.3311617 (400)\ttotal: 14.2s\tremaining: 21.1s\n",
            "Stopped by overfitting detector  (50 iterations wait)\n",
            "\n",
            "bestTest = 26567.92742\n",
            "bestIteration = 402\n",
            "\n",
            "Shrink model to first 403 iterations.\n"
          ]
        },
        {
          "output_type": "execute_result",
          "data": {
            "text/plain": [
              "<catboost.core.CatBoostRegressor at 0x7d8adbe17a60>"
            ]
          },
          "metadata": {},
          "execution_count": 9
        }
      ]
    },
    {
      "cell_type": "code",
      "source": [
        "y_pred = model.predict(X_valid)\n",
        "\n",
        "mae = mean_absolute_error(y_valid, y_pred)\n",
        "mse = mean_squared_error(y_valid, y_pred)\n",
        "rmse = sqrt(mse)\n",
        "r2 = r2_score(y_valid, y_pred)\n",
        "\n",
        "print(f'Mean Absolute Error (MAE): {mae}')\n",
        "print(f'Mean Squared Error (MSE): {mse}')\n",
        "print(f'Root Mean Squared Error (RMSE): {rmse}')\n",
        "print(f'R-squared (R2 Score): {r2}')"
      ],
      "metadata": {
        "colab": {
          "base_uri": "https://localhost:8080/"
        },
        "id": "ib2X3vZJD2k6",
        "outputId": "65bda7ec-4f41-4825-e808-8d50680d60bc"
      },
      "execution_count": null,
      "outputs": [
        {
          "output_type": "stream",
          "name": "stdout",
          "text": [
            "Mean Absolute Error (MAE): 16200.464509588272\n",
            "Mean Squared Error (MSE): 705854767.6586078\n",
            "Root Mean Squared Error (RMSE): 26567.927424972535\n",
            "R-squared (R2 Score): 0.9079759128109546\n"
          ]
        }
      ]
    },
    {
      "cell_type": "code",
      "source": [
        "import optuna\n",
        "from sklearn.model_selection import cross_val_score\n",
        "\n",
        "def objective(trial):\n",
        "    params = {\n",
        "        'iterations': trial.suggest_int('iterations', 100, 1000),\n",
        "        'depth': trial.suggest_int('depth', 4, 10),\n",
        "        'learning_rate': trial.suggest_float('learning_rate', 0.01, 0.3),\n",
        "        'random_strength': trial.suggest_float('random_strength', 0, 1),\n",
        "        'bagging_temperature': trial.suggest_float('bagging_temperature', 0, 1)\n",
        "    }\n",
        "\n",
        "    model = CatBoostRegressor(**params, loss_function='RMSE', cat_features=cat_features, verbose=False)\n",
        "    return cross_val_score(model, X, y, cv=3, scoring='r2').mean()\n",
        "\n",
        "study = optuna.create_study(direction='maximize')\n",
        "study.optimize(objective, n_trials=50)\n",
        "\n",
        "print(\"\\nBest R2 Score:\", study.best_value)\n",
        "print(\"\\nBest hyperparameters:\", study.best_params)\n"
      ],
      "metadata": {
        "id": "DADx7r4yGGz2"
      },
      "execution_count": null,
      "outputs": []
    },
    {
      "cell_type": "code",
      "source": [
        "best_params = {'iterations': 556, 'depth': 5, 'learning_rate': 0.20107935865240828, 'random_strength': 0.2805400794249189, 'bagging_temperature': 0.12228467179968683}\n",
        "best_model = CatBoostRegressor(**best_params, loss_function='RMSE', cat_features=cat_features, verbose=False)\n",
        "best_model.fit(X, y)"
      ],
      "metadata": {
        "colab": {
          "base_uri": "https://localhost:8080/"
        },
        "id": "tHeuI-cOLgN4",
        "outputId": "c0338f88-cb59-48d5-caf2-f2f1610aa4ce"
      },
      "execution_count": null,
      "outputs": [
        {
          "output_type": "execute_result",
          "data": {
            "text/plain": [
              "<catboost.core.CatBoostRegressor at 0x7d8abfcf0700>"
            ]
          },
          "metadata": {},
          "execution_count": 18
        }
      ]
    },
    {
      "cell_type": "code",
      "source": [
        "y_pred = best_model.predict(X_valid)\n",
        "\n",
        "mae = mean_absolute_error(y_valid, y_pred)\n",
        "mse = mean_squared_error(y_valid, y_pred)\n",
        "rmse = sqrt(mse)\n",
        "r2 = r2_score(y_valid, y_pred)\n",
        "\n",
        "print(f'Mean Absolute Error (MAE): {mae}')\n",
        "print(f'Mean Squared Error (MSE): {mse}')\n",
        "print(f'Root Mean Squared Error (RMSE): {rmse}')\n",
        "print(f'R-squared (R2 Score): {r2}')"
      ],
      "metadata": {
        "colab": {
          "base_uri": "https://localhost:8080/"
        },
        "id": "mKduGK_tLwnV",
        "outputId": "3928f7f8-52e6-4838-9587-4d2ce04e0d9b"
      },
      "execution_count": null,
      "outputs": [
        {
          "output_type": "stream",
          "name": "stdout",
          "text": [
            "Mean Absolute Error (MAE): 6121.56131138173\n",
            "Mean Squared Error (MSE): 68710862.00276913\n",
            "Root Mean Squared Error (RMSE): 8289.201529868189\n",
            "R-squared (R2 Score): 0.9910419895912136\n"
          ]
        }
      ]
    },
    {
      "cell_type": "code",
      "source": [
        "test = pd.read_csv('test.csv')\n",
        "\n",
        "test_ids = test['Id']\n",
        "\n",
        "test.drop('Id', axis=1, inplace=True)\n",
        "\n",
        "for col in test.columns:\n",
        "    if test[col].dtype != 'object':  # If not categorical\n",
        "        median_val = test[col].median()\n",
        "        test[col].fillna(median_val, inplace=True)\n",
        "\n",
        "test.fillna('missing', inplace=True)\n",
        "\n",
        "predictions = best_model.predict(test)\n",
        "\n",
        "submission = pd.DataFrame({\n",
        "    'Id': test_ids,\n",
        "    'SalePrice': predictions\n",
        "})\n",
        "submission.to_csv('submission.csv', index=False)\n"
      ],
      "metadata": {
        "id": "aHa3srlCL5GQ"
      },
      "execution_count": null,
      "outputs": []
    }
  ]
}